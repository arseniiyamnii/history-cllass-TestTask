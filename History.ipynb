{
 "cells": [
  {
   "cell_type": "code",
   "execution_count": 5,
   "id": "theoretical-remains",
   "metadata": {},
   "outputs": [
    {
     "name": "stdout",
     "output_type": "stream",
     "text": [
      "0\n",
      "--- 31.3169002532959 seconds ---\n",
      "0\n",
      "--- 89.23187160491943 seconds ---\n"
     ]
    }
   ],
   "source": [
    "from yamniiMod.history.history import history\n",
    "import random\n",
    "import time\n",
    "import sys\n",
    "from pympler import asizeof\n",
    "\n",
    "hist = history()\n",
    "random.seed(version=2)\n",
    "start_time = time.time()\n",
    "first_stop_at_MB = 3\n",
    "second_stop_at_MB = 5\n",
    "stopper = first_stop_at_MB\n",
    "filename='arr2.json'\n",
    "while True:\n",
    "    sequence=[]\n",
    "    for i in range(500):\n",
    "        sequence.append(random.randint(1, 32767))\n",
    "    hist.set_history(sequence, random.uniform(1,32767))\n",
    "    if (asizeof.asizeof(hist.history_arr) >= stopper*1024*1024):\n",
    "        print(hist.history_arr['dupe'])\n",
    "        print(\"--- %s seconds ---\" % (time.time() - start_time))\n",
    "        hist.save_history(filename)\n",
    "        hist.load_history(filename)\n",
    "        if (stopper != second_stop_at_MB):\n",
    "            stopper = second_stop_at_MB\n",
    "        else:\n",
    "            break"
   ]
  },
  {
   "cell_type": "code",
   "execution_count": null,
   "id": "accepting-fitting",
   "metadata": {},
   "outputs": [],
   "source": []
  }
 ],
 "metadata": {
  "kernelspec": {
   "display_name": "env",
   "language": "python",
   "name": "env"
  },
  "language_info": {
   "codemirror_mode": {
    "name": "ipython",
    "version": 3
   },
   "file_extension": ".py",
   "mimetype": "text/x-python",
   "name": "python",
   "nbconvert_exporter": "python",
   "pygments_lexer": "ipython3",
   "version": "3.8.5"
  }
 },
 "nbformat": 4,
 "nbformat_minor": 5
}
